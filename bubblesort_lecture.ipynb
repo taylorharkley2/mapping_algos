{
  "cells": [
    {
      "cell_type": "markdown",
      "metadata": {
        "id": "pBTLVYhRKgxM"
      },
      "source": [
        "## ECE495 Algorithm 1: Bubble Sort\n",
        "\n",
        "In this demonstration we will:\n",
        "\n",
        "1. Understand the fundamentals of the bubble sort algorithm\n",
        "2. Use neurons to hard-code bubble sort for an array of 4 values less than 1"
      ]
    },
    {
      "cell_type": "markdown",
      "metadata": {},
      "source": [
        "#### Set up\n",
        "\n",
        "**Ensure you are using your [495 Virtual Environment](https://github.com/kaitlin-fair/495venv_setup) before you begin!**  \n",
        "    \n",
        "Import Nengo and other supporting libraries into your program to get started:"
      ]
    },
    {
      "cell_type": "code",
      "execution_count": 1,
      "metadata": {
        "id": "5T8-BHo0HUCC"
      },
      "outputs": [],
      "source": [
        "import matplotlib.pyplot as plt\n",
        "import numpy as np\n",
        "\n",
        "import nengo\n",
        "\n",
        "from nengo.dists import Uniform\n",
        "from nengo.utils.matplotlib import rasterplot"
      ]
    },
    {
      "cell_type": "markdown",
      "metadata": {
        "id": "XnWc6arGLcEr"
      },
      "source": [
        "### How Bubble Sort Works\n",
        "\n",
        "Working left to right, compare two elements at a time and swap (if necessary) so that the higher number is to the right. By working all the way left to right, the highest number should end up in the correct position (the last position) after the \"first pass\". In the 4-element array case, element 1 is compared with element 2 and swapped if applicable, then the (possibly new) element 2 is compared with element 3, swapped if applicable, then the (possibly new) element 3 is compared with element 4, swapped if applicable. The final element 4 is the largest number in the array and will not move for any future pass.\n",
        "\n",
        "After the first pass is completed, we work left to right again, but this time for just the first three positions, since the fourth is already locked in from the previous step. The second largest value should end up in the third position after this pass.\n",
        "\n",
        "Once the second pass is completed, we just need to rearrange the first two digits and we have a fully sorted array!"
      ]
    },
    {
      "cell_type": "markdown",
      "metadata": {
        "id": "SRNvPHASH60r"
      },
      "source": [
        "### Create your array to be sorted\n",
        "\n",
        "To make it easy, we will use an array of four values that are shuffled each time we run the program."
      ]
    },
    {
      "cell_type": "code",
      "execution_count": 3,
      "metadata": {
        "colab": {
          "base_uri": "https://localhost:8080/"
        },
        "id": "ujj_kHg6IFcF",
        "outputId": "a9b6675c-9468-48e5-85eb-d2a7bf3b9a6c"
      },
      "outputs": [
        {
          "data": {
            "text/plain": [
              "array([0.8, 0.2, 0.4, 0.6])"
            ]
          },
          "execution_count": 3,
          "metadata": {},
          "output_type": "execute_result"
        }
      ],
      "source": [
        "input_array = np.array([.2, .4, .6, .8])\n",
        "np.random.shuffle(input_array)\n",
        "input_array"
      ]
    },
    {
      "cell_type": "markdown",
      "metadata": {
        "id": "rdEV5qImCmr9"
      },
      "source": [
        "### Encode all inputs for sorting\n",
        "\n",
        "Create the model and add input nodes, neuron ensembles and probes to visualize our encoded input array."
      ]
    },
    {
      "cell_type": "code",
      "execution_count": 4,
      "metadata": {
        "colab": {
          "base_uri": "https://localhost:8080/",
          "height": 531
        },
        "id": "lH3Oq4a-PAPl",
        "outputId": "d7f0ea25-35ee-4bde-b8d1-43f4a698c370"
      },
      "outputs": [
        {
          "data": {
            "application/vdom.v1+json": {
              "attributes": {},
              "tagName": "div"
            },
            "text/html": [
              "\n",
              "                <script>\n",
              "                    if (Jupyter.version.split(\".\")[0] < 5) {\n",
              "                        var pb = document.getElementById(\"2b051856-4d41-4e55-b02a-f1dbe1ecf36b\");\n",
              "                        var text = document.createTextNode(\n",
              "                            \"HMTL progress bar requires Jupyter Notebook >= \" +\n",
              "                            \"5.0 or Jupyter Lab. Alternatively, you can use \" +\n",
              "                            \"TerminalProgressBar().\");\n",
              "                        pb.parentNode.insertBefore(text, pb);\n",
              "                    }\n",
              "                </script>\n",
              "                <div id=\"2b051856-4d41-4e55-b02a-f1dbe1ecf36b\" style=\"\n",
              "                    width: 100%;\n",
              "                    border: 1px solid #cfcfcf;\n",
              "                    border-radius: 4px;\n",
              "                    text-align: center;\n",
              "                    position: relative;\">\n",
              "                  <div class=\"pb-text\" style=\"\n",
              "                      position: absolute;\n",
              "                      width: 100%;\">\n",
              "                    0%\n",
              "                  </div>\n",
              "                  <div class=\"pb-fill\" style=\"\n",
              "                      background-color: #bdd2e6;\n",
              "                      width: 0%;\">\n",
              "                    <style type=\"text/css\" scoped=\"scoped\">\n",
              "                        @keyframes pb-fill-anim {\n",
              "                            0% { background-position: 0 0; }\n",
              "                            100% { background-position: 100px 0; }\n",
              "                        }\n",
              "                    </style>\n",
              "                    &nbsp;\n",
              "                  </div>\n",
              "                </div>"
            ],
            "text/plain": [
              "HtmlProgressBar cannot be displayed. Please use the TerminalProgressBar. It can be enabled with `nengo.rc['progress']['progress_bar'] = 'nengo.utils.progress.TerminalProgressBar'`."
            ]
          },
          "metadata": {},
          "output_type": "display_data"
        },
        {
          "data": {
            "application/vdom.v1+json": {
              "attributes": {
                "id": "561aa213-a159-4fc5-834c-e2d1c0070328",
                "style": {
                  "border": "1px solid #cfcfcf",
                  "borderRadius": "4px",
                  "boxSizing": "border-box",
                  "position": "relative",
                  "textAlign": "center",
                  "width": "100%"
                }
              },
              "children": [
                {
                  "attributes": {
                    "class": "pb-text",
                    "style": {
                      "position": "absolute",
                      "width": "100%"
                    }
                  },
                  "children": [
                    "Build finished in 0:00:01."
                  ],
                  "tagName": "div"
                },
                {
                  "attributes": {
                    "class": "pb-fill",
                    "style": {
                      "animation": "none",
                      "backgroundColor": "#bdd2e6",
                      "backgroundImage": "none",
                      "backgroundSize": "100px 100%",
                      "width": "100%"
                    }
                  },
                  "children": [
                    {
                      "attributes": {
                        "scoped": "scoped",
                        "type": "text/css"
                      },
                      "children": [
                        "\n                        @keyframes pb-fill-anim {\n                            0% { background-position: 0 0; }\n                            100% { background-position: 100px 0; }\n                        }}"
                      ],
                      "tagName": "style"
                    },
                    " "
                  ],
                  "tagName": "div"
                }
              ],
              "tagName": "div"
            },
            "text/html": [
              "<script>\n",
              "              (function () {\n",
              "                  var root = document.getElementById('2b051856-4d41-4e55-b02a-f1dbe1ecf36b');\n",
              "                  var text = root.getElementsByClassName('pb-text')[0];\n",
              "                  var fill = root.getElementsByClassName('pb-fill')[0];\n",
              "\n",
              "                  text.innerHTML = 'Build finished in 0:00:01.';\n",
              "                  \n",
              "            fill.style.width = '100%';\n",
              "            fill.style.animation = 'pb-fill-anim 2s linear infinite';\n",
              "            fill.style.backgroundSize = '100px 100%';\n",
              "            fill.style.backgroundImage = 'repeating-linear-gradient(' +\n",
              "                '90deg, #bdd2e6, #edf2f8 40%, #bdd2e6 80%, #bdd2e6)';\n",
              "        \n",
              "                  \n",
              "                fill.style.animation = 'none';\n",
              "                fill.style.backgroundImage = 'none';\n",
              "            \n",
              "              })();\n",
              "        </script>"
            ]
          },
          "metadata": {},
          "output_type": "display_data"
        },
        {
          "data": {
            "application/vdom.v1+json": {
              "attributes": {},
              "tagName": "div"
            },
            "text/html": [
              "\n",
              "                <script>\n",
              "                    if (Jupyter.version.split(\".\")[0] < 5) {\n",
              "                        var pb = document.getElementById(\"c85ce31e-6657-4dd1-8934-b211ae4f7b12\");\n",
              "                        var text = document.createTextNode(\n",
              "                            \"HMTL progress bar requires Jupyter Notebook >= \" +\n",
              "                            \"5.0 or Jupyter Lab. Alternatively, you can use \" +\n",
              "                            \"TerminalProgressBar().\");\n",
              "                        pb.parentNode.insertBefore(text, pb);\n",
              "                    }\n",
              "                </script>\n",
              "                <div id=\"c85ce31e-6657-4dd1-8934-b211ae4f7b12\" style=\"\n",
              "                    width: 100%;\n",
              "                    border: 1px solid #cfcfcf;\n",
              "                    border-radius: 4px;\n",
              "                    text-align: center;\n",
              "                    position: relative;\">\n",
              "                  <div class=\"pb-text\" style=\"\n",
              "                      position: absolute;\n",
              "                      width: 100%;\">\n",
              "                    0%\n",
              "                  </div>\n",
              "                  <div class=\"pb-fill\" style=\"\n",
              "                      background-color: #bdd2e6;\n",
              "                      width: 0%;\">\n",
              "                    <style type=\"text/css\" scoped=\"scoped\">\n",
              "                        @keyframes pb-fill-anim {\n",
              "                            0% { background-position: 0 0; }\n",
              "                            100% { background-position: 100px 0; }\n",
              "                        }\n",
              "                    </style>\n",
              "                    &nbsp;\n",
              "                  </div>\n",
              "                </div>"
            ],
            "text/plain": [
              "HtmlProgressBar cannot be displayed. Please use the TerminalProgressBar. It can be enabled with `nengo.rc['progress']['progress_bar'] = 'nengo.utils.progress.TerminalProgressBar'`."
            ]
          },
          "metadata": {},
          "output_type": "display_data"
        },
        {
          "data": {
            "application/vdom.v1+json": {
              "attributes": {
                "id": "dcbf9b2a-5f97-491a-b45c-82466813929a",
                "style": {
                  "border": "1px solid #cfcfcf",
                  "borderRadius": "4px",
                  "boxSizing": "border-box",
                  "position": "relative",
                  "textAlign": "center",
                  "width": "100%"
                }
              },
              "children": [
                {
                  "attributes": {
                    "class": "pb-text",
                    "style": {
                      "position": "absolute",
                      "width": "100%"
                    }
                  },
                  "children": [
                    "Simulation finished in 0:00:01."
                  ],
                  "tagName": "div"
                },
                {
                  "attributes": {
                    "class": "pb-fill",
                    "style": {
                      "animation": "none",
                      "backgroundColor": "#bdd2e6",
                      "backgroundImage": "none",
                      "transition": "width 0.1s linear",
                      "width": "100%"
                    }
                  },
                  "children": [
                    {
                      "attributes": {
                        "scoped": "scoped",
                        "type": "text/css"
                      },
                      "children": [
                        "\n                        @keyframes pb-fill-anim {\n                            0% { background-position: 0 0; }\n                            100% { background-position: 100px 0; }\n                        }}"
                      ],
                      "tagName": "style"
                    },
                    " "
                  ],
                  "tagName": "div"
                }
              ],
              "tagName": "div"
            },
            "text/html": [
              "<script>\n",
              "              (function () {\n",
              "                  var root = document.getElementById('c85ce31e-6657-4dd1-8934-b211ae4f7b12');\n",
              "                  var text = root.getElementsByClassName('pb-text')[0];\n",
              "                  var fill = root.getElementsByClassName('pb-fill')[0];\n",
              "\n",
              "                  text.innerHTML = 'Simulation finished in 0:00:01.';\n",
              "                  \n",
              "            if (100.0 > 0.) {\n",
              "                fill.style.transition = 'width 0.1s linear';\n",
              "            } else {\n",
              "                fill.style.transition = 'none';\n",
              "            }\n",
              "\n",
              "            fill.style.width = '100.0%';\n",
              "            fill.style.animation = 'none';\n",
              "            fill.style.backgroundImage = 'none'\n",
              "        \n",
              "                  \n",
              "                fill.style.animation = 'none';\n",
              "                fill.style.backgroundImage = 'none';\n",
              "            \n",
              "              })();\n",
              "        </script>"
            ]
          },
          "metadata": {},
          "output_type": "display_data"
        },
        {
          "data": {
            "image/png": "[encoded data removed]",
            "text/plain": [
              "<Figure size 640x480 with 1 Axes>"
            ]
          },
          "metadata": {},
          "output_type": "display_data"
        }
      ],
      "source": [
        "# Create a model to perform the sorting\n",
        "model = nengo.Network(label=\"SortArray\")\n",
        "with model:\n",
        "    # Add input nodes for each value of the array\n",
        "    input_node_A = nengo.Node(input_array[0])\n",
        "    input_node_B = nengo.Node(input_array[1])\n",
        "    input_node_C = nengo.Node(input_array[2])\n",
        "    input_node_D = nengo.Node(input_array[3])\n",
        "\n",
        "    # Add neuron ensembles to encode each value of the array\n",
        "    input_neuron_A = nengo.Ensemble(n_neurons=100, dimensions=1)\n",
        "    input_neuron_B = nengo.Ensemble(n_neurons=100, dimensions=1)\n",
        "    input_neuron_C = nengo.Ensemble(n_neurons=100, dimensions=1)\n",
        "    input_neuron_D = nengo.Ensemble(n_neurons=100, dimensions=1)\n",
        "\n",
        "    # Connect the nodes to the encoding neurons\n",
        "    nengo.Connection(input_node_A, input_neuron_A)\n",
        "    nengo.Connection(input_node_B, input_neuron_B)\n",
        "    nengo.Connection(input_node_C, input_neuron_C)\n",
        "    nengo.Connection(input_node_D, input_neuron_D)\n",
        "\n",
        "    # Add probes so we can see the outputs at each step\n",
        "    input_probe_nodeA = nengo.Probe(input_node_A,)\n",
        "    input_probe_nodeB = nengo.Probe(input_node_B)\n",
        "    input_probe_nodeC = nengo.Probe(input_node_C)\n",
        "    input_probe_nodeD = nengo.Probe(input_node_D)\n",
        "\n",
        "    # These probes show us how well our neurons can approximate our inputs\n",
        "    input_probe_neuronA = nengo.Probe(input_neuron_A, synapse=0.01)\n",
        "    input_probe_neuronB = nengo.Probe(input_neuron_B, synapse=0.01)\n",
        "    input_probe_neuronC = nengo.Probe(input_neuron_C, synapse=0.01)\n",
        "    input_probe_neuronD = nengo.Probe(input_neuron_D, synapse=0.01)\n",
        "\n",
        "# Build the simulator to run the model containing just input encoding\n",
        "with nengo.Simulator(model) as sim:\n",
        "    # Run it for 1 second\n",
        "    sim.run(1)\n",
        "\n",
        "# Plot the input signals and decoded ensemble values\n",
        "t = sim.trange()\n",
        "plt.figure()\n",
        "plt.plot(sim.trange(), sim.data[input_probe_neuronA], label=\"Encoded Input A\")\n",
        "plt.plot(sim.trange(), sim.data[input_probe_neuronB], label=\"Encoded Input B\")\n",
        "plt.plot(sim.trange(), sim.data[input_probe_neuronC], label=\"Encoded Input C\")\n",
        "plt.plot(sim.trange(), sim.data[input_probe_neuronD], label=\"Encoded Input D\")\n",
        "plt.plot(sim.trange(), sim.data[input_probe_nodeA], label=\"Input Node A\")\n",
        "plt.plot(sim.trange(), sim.data[input_probe_nodeB], label=\"Input Node B\")\n",
        "plt.plot(sim.trange(), sim.data[input_probe_nodeC], label=\"Input Node C\")\n",
        "plt.plot(sim.trange(), sim.data[input_probe_nodeD], label=\"Input Node D\")\n",
        "plt.legend()\n",
        "plt.ylim(0, 1)\n",
        "plt.xlabel(\"time [s]\")\n",
        "plt.title(\"Encoded Input Values\")\n",
        "plt.show()"
      ]
    },
    {
      "cell_type": "markdown",
      "metadata": {
        "id": "GVEl2ZdARMhN"
      },
      "source": [
        "### Set up neurons to perform the comparisons required for Bubble Sort\n",
        "\n",
        "We need neuron ensembles to compare each of the inputs from left to right, two at a time.\n",
        "\n",
        "From the details on the Bubble Sort algorithm, for an array of four values, you will need to perform a compare function 6 times to sort the array into ascending order.\n",
        "\n",
        "Due to the nature of Nengo, for each of these 6 comparisons, we need a 2D neuron `combine_neuron_N` to take in the two digits to be compared, then connect the output of that neuron to a neuron that represents the greater value `larger_neuron_N` and a neuron that represents the smaller value `smaller_neuron_N`.\n",
        "\n",
        "Notice that we set up all of these ensembles exactly as we did for our input encoding, except our comparator neurons are 2D to recieve two neuron inputs that will remain distinct inputs so they can be compared (versus all coming in at once, which would just add the input spikes)."
      ]
    },
    {
      "cell_type": "code",
      "execution_count": null,
      "metadata": {
        "id": "_QfLpTgGRF6G"
      },
      "outputs": [],
      "source": [
        "with model:\n",
        "    combine_neuron_1 = nengo.Ensemble(n_neurons=200, dimensions=2)\n",
        "    combine_neuron_2 = nengo.Ensemble(n_neurons=200, dimensions=2)\n",
        "    combine_neuron_3 = nengo.Ensemble(n_neurons=200, dimensions=2)\n",
        "    combine_neuron_4 = nengo.Ensemble(n_neurons=200, dimensions=2)\n",
        "    combine_neuron_5 = nengo.Ensemble(n_neurons=200, dimensions=2)\n",
        "    combine_neuron_6 = nengo.Ensemble(n_neurons=200, dimensions=2)\n",
        "\n",
        "    larger_neuron_1 = nengo.Ensemble(n_neurons=200, dimensions=1)\n",
        "    larger_neuron_2 = nengo.Ensemble(n_neurons=200, dimensions=1)\n",
        "    larger_neuron_3 = nengo.Ensemble(n_neurons=200, dimensions=1)\n",
        "    larger_neuron_4 = nengo.Ensemble(n_neurons=200, dimensions=1)\n",
        "    larger_neuron_5 = nengo.Ensemble(n_neurons=200, dimensions=1)\n",
        "    larger_neuron_6 = nengo.Ensemble(n_neurons=200, dimensions=1)\n",
        "\n",
        "    smaller_neuron_1 = nengo.Ensemble(n_neurons=200, dimensions=1)\n",
        "    smaller_neuron_2 = nengo.Ensemble(n_neurons=200, dimensions=1)\n",
        "    smaller_neuron_3 = nengo.Ensemble(n_neurons=200, dimensions=1)\n",
        "    smaller_neuron_4 = nengo.Ensemble(n_neurons=200, dimensions=1)\n",
        "    smaller_neuron_5 = nengo.Ensemble(n_neurons=200, dimensions=1)\n",
        "    smaller_neuron_6 = nengo.Ensemble(n_neurons=200, dimensions=1)"
      ]
    },
    {
      "cell_type": "markdown",
      "metadata": {
        "id": "NJgPi2MPRzC9"
      },
      "source": [
        "We now have neurons set aside to perform the comparison functions, but in order to actually do so the network must train weights to compute the comparison of two values at a time.\n",
        "\n",
        "In Nengo, we define a function that trains weights between each `combine_neuron_N` and `larger_neuron_N` such that the greater value is returned from the `larger_neuron_N` ensemble.\n",
        "\n",
        "Similarly we define a function that trains weights between each `combine_neuron_N` and `smaller_neuron_N` such that the lower value is returned from the `smaller_neuron_N` ensemble."
      ]
    },
    {
      "cell_type": "code",
      "execution_count": null,
      "metadata": {
        "id": "hBiDRTmyRyzO"
      },
      "outputs": [],
      "source": [
        "with model:\n",
        "    # Create a function to return the largest value\n",
        "    def higher_val(x):\n",
        "        if x[0]>x[1]:\n",
        "            return x[0]\n",
        "        else:\n",
        "            return x[1]\n",
        "\n",
        "    # Create a function to return the smaller value\n",
        "    def lower_val(x):\n",
        "        if x[0]<x[1]:\n",
        "            return x[0]\n",
        "        else:\n",
        "            return x[1]"
      ]
    },
    {
      "cell_type": "markdown",
      "metadata": {
        "id": "HGuwtrA_Teuu"
      },
      "source": [
        "## Connect all the things!\n",
        "\n",
        "Now we need to connect all of our neurons to sort. Pay special attention to the block diagram of our Bubble Sort implementation to connect the right neurons to one another."
      ]
    },
    {
      "cell_type": "code",
      "execution_count": null,
      "metadata": {
        "id": "is5fUocSTlBm"
      },
      "outputs": [],
      "source": [
        "with model:\n",
        "    # Connect input nodes to the appropriate combine neuron ensembles\n",
        "    # Add the functions to the larger and smaller neurons to train the weights\n",
        "\n",
        "    # Compare 1\n",
        "    nengo.Connection(input_neuron_A, combine_neuron_1[0])\n",
        "    nengo.Connection(input_neuron_B, combine_neuron_1[1])\n",
        "\n",
        "    nengo.Connection(combine_neuron_1, smaller_neuron_1, function=lower_val)\n",
        "    nengo.Connection(combine_neuron_1, larger_neuron_1, function=higher_val)\n",
        "\n",
        "    # Compare 2\n",
        "    nengo.Connection(larger_neuron_1,combine_neuron_2[0])\n",
        "    nengo.Connection(input_neuron_C, combine_neuron_2[1])\n",
        "\n",
        "    nengo.Connection(combine_neuron_2, smaller_neuron_2, function=lower_val)\n",
        "    nengo.Connection(combine_neuron_2, larger_neuron_2, function=higher_val)\n",
        "\n",
        "    # Compare 3\n",
        "    nengo.Connection(larger_neuron_2,combine_neuron_3[0])\n",
        "    nengo.Connection(input_neuron_D, combine_neuron_3[1])\n",
        "\n",
        "    nengo.Connection(combine_neuron_3, smaller_neuron_3, function=lower_val)\n",
        "    nengo.Connection(combine_neuron_3, larger_neuron_3, function=higher_val) #output 4\n",
        "\n",
        "    # Compare 4\n",
        "    nengo.Connection(smaller_neuron_1,combine_neuron_4[0])\n",
        "    nengo.Connection(smaller_neuron_2, combine_neuron_4[1])\n",
        "\n",
        "    nengo.Connection(combine_neuron_4, smaller_neuron_4, function=lower_val)\n",
        "    nengo.Connection(combine_neuron_4, larger_neuron_4, function=higher_val)\n",
        "\n",
        "    # Compare 5\n",
        "    nengo.Connection(larger_neuron_4,combine_neuron_5[0])\n",
        "    nengo.Connection(smaller_neuron_3, combine_neuron_5[1])\n",
        "\n",
        "    nengo.Connection(combine_neuron_5, smaller_neuron_5, function=lower_val)\n",
        "    nengo.Connection(combine_neuron_5, larger_neuron_5, function=higher_val) #output 3\n",
        "\n",
        "    # Compare 6\n",
        "    nengo.Connection(smaller_neuron_4,combine_neuron_6[0])\n",
        "    nengo.Connection(smaller_neuron_5, combine_neuron_6[1])\n",
        "\n",
        "    nengo.Connection(combine_neuron_6, smaller_neuron_6, function=lower_val) #output 1\n",
        "    nengo.Connection(combine_neuron_6, larger_neuron_6, function=higher_val) #output 2"
      ]
    },
    {
      "cell_type": "markdown",
      "metadata": {
        "id": "cYaHxXuZc-O5"
      },
      "source": [
        "Add probes to the output so that we can see how well our neurons sorted our input array."
      ]
    },
    {
      "cell_type": "code",
      "execution_count": null,
      "metadata": {
        "id": "AXae7R73euxS"
      },
      "outputs": [],
      "source": [
        "with model:\n",
        "    # add probes to output neurons (those contributing to the sorted array)\n",
        "    out_probe_1 = nengo.Probe(smaller_neuron_6,synapse=0.01)\n",
        "    out_probe_2 = nengo.Probe(larger_neuron_6,synapse=0.01)\n",
        "    out_probe_3 = nengo.Probe(larger_neuron_5,synapse=0.01)\n",
        "    out_probe_4 = nengo.Probe(larger_neuron_3,synapse=0.01)\n",
        "\n",
        "    ## add debug probes (or probes if you want to see all of the steps)\n",
        "    #compare_probe_1 = nengo.Probe(combine_neuron_1,synapse=0.01)\n",
        "    #compare_probe_2 = nengo.Probe(combine_neuron_2,synapse=0.01)\n",
        "    #compare_probe_3 = nengo.Probe(combine_neuron_3,synapse=0.01)\n",
        "    #compare_probe_4 = nengo.Probe(combine_neuron_4,synapse=0.01)\n",
        "    #compare_probe_5 = nengo.Probe(combine_neuron_5,synapse=0.01)\n",
        "    #compare_probe_6 = nengo.Probe(combine_neuron_6,synapse=0.01)\n",
        "    #smaller_probe_1 = nengo.Probe(smaller_neuron_1,synapse=0.01)\n",
        "    #smaller_probe_2 = nengo.Probe(smaller_neuron_2,synapse=0.01)\n",
        "    #smaller_probe_3 = nengo.Probe(smaller_neuron_3,synapse=0.01)\n",
        "    #smaller_probe_4 = nengo.Probe(smaller_neuron_4,synapse=0.01)\n",
        "    #smaller_probe_5 = nengo.Probe(smaller_neuron_5,synapse=0.01)\n",
        "    #smaller_probe_6 = nengo.Probe(smaller_neuron_6,synapse=0.01)\n",
        "    #larger_probe_1 = nengo.Probe(larger_neuron_1,synapse=0.01)\n",
        "    #larger_probe_2 = nengo.Probe(larger_neuron_2,synapse=0.01)\n",
        "    #larger_probe_3 = nengo.Probe(larger_neuron_3,synapse=0.01)\n",
        "    #larger_probe_4 = nengo.Probe(larger_neuron_4,synapse=0.01)\n",
        "    #larger_probe_5 = nengo.Probe(larger_neuron_5,synapse=0.01)\n",
        "    #larger_probe_6 = nengo.Probe(larger_neuron_6,synapse=0.01)\n"
      ]
    },
    {
      "cell_type": "markdown",
      "metadata": {
        "id": "4Z7BGJqXfJNy"
      },
      "source": [
        "Create your simulator to run the neuron dynamics over time"
      ]
    },
    {
      "cell_type": "code",
      "execution_count": null,
      "metadata": {
        "colab": {
          "base_uri": "https://localhost:8080/",
          "height": 76
        },
        "id": "OaBSTRqmfMHi",
        "outputId": "034dc7a9-111a-4926-d3c4-70f892248d8b"
      },
      "outputs": [],
      "source": [
        "with nengo.Simulator(model) as sim:\n",
        "    # Run it for 2 seconds\n",
        "    sim.run(2)"
      ]
    },
    {
      "cell_type": "markdown",
      "metadata": {
        "id": "IU76Mt_cfa7q"
      },
      "source": [
        "Plot the data!"
      ]
    },
    {
      "cell_type": "code",
      "execution_count": null,
      "metadata": {
        "colab": {
          "base_uri": "https://localhost:8080/",
          "height": 944
        },
        "id": "tM7hBsFufb7j",
        "outputId": "2af38440-acd5-4f88-d4d7-7e3f6401a50d"
      },
      "outputs": [],
      "source": [
        "## Plot the results!\n",
        "# Plot the input signals and decoded ensemble values\n",
        "t = sim.trange()\n",
        "plt.figure()\n",
        "plt.plot(sim.trange(), sim.data[input_probe_neuronA], label=\"Not sorted: 1st Value\")\n",
        "plt.plot(sim.trange(), sim.data[input_probe_neuronB], label=\"Not sorted: 2nd Value\")\n",
        "plt.plot(sim.trange(), sim.data[input_probe_neuronC], label=\"Not sorted: 3rd Value\")\n",
        "plt.plot(sim.trange(), sim.data[input_probe_neuronD], label=\"Not sorted: 4th Value\")\n",
        "plt.legend()\n",
        "plt.ylim(0, 1)\n",
        "plt.xlabel(\"time [s]\")\n",
        "plt.title(\"Input Array (not sorted)\")\n",
        "plt.show()\n",
        "\n",
        "print(\"Input Array =\", input_array)\n",
        "\n",
        "## Plot the results!\n",
        "# Plot the input signals and decoded ensemble values\n",
        "t = sim.trange()\n",
        "plt.figure()\n",
        "plt.plot(sim.trange(), sim.data[out_probe_1], label=\"Sorted: 1st Value\")\n",
        "plt.plot(sim.trange(), sim.data[out_probe_2], label=\"Sorted: 2nd Value\")\n",
        "plt.plot(sim.trange(), sim.data[out_probe_3], label=\"Sorted: 3rd Value\")\n",
        "plt.plot(sim.trange(), sim.data[out_probe_4], label=\"Sorted: 4th Value\")\n",
        "plt.legend()\n",
        "plt.ylim(0, 1)\n",
        "plt.xlabel(\"time [s]\")\n",
        "plt.title(\"Sorted Array\")\n",
        "plt.show()"
      ]
    },
    {
      "cell_type": "markdown",
      "metadata": {
        "id": "Q22sCtKMiFMz"
      },
      "source": [
        "## Discussion\n",
        "\n",
        "ICE3 next lecture\n",
        "- You will build directly off of this for ICE3 (no fill in the blanks on this one!). Name your ICE3 file `ICE3_BubbleSort.ipynb`.\n",
        "- Generalize to any sized array (you should be able to give it any input array and automatically adjust the number of neuron ensembles required to sort your array).\n",
        "- Choose neuron parameters to handle array values greater than 1 as well as negative values smaller than -1. (you should be able to give it any input array and automatically choose the best radii and number of neurons required to sort your array). \n",
        "- Verify that your Nengo model works properly for the following arrays _without changing anything about your generalized code_:\n",
        "$$\\begin{bmatrix} .8 & .2 & .6 & .4  \\end{bmatrix}$$\n",
        "$$\\begin{bmatrix} 10 & -3 & 6  & -8 & 3 & 1 & -6 \\end{bmatrix}$$\n",
        "$$\\begin{bmatrix} 1 & -2 & -14 & 4 & -5 & -8 & 7 & 10 & -11 & 15 \\end{bmatrix}$$\n",
        "$$\\begin{bmatrix} -4 & 2 & 0  & 4 & -3 & -5\\end{bmatrix}$$\n",
        "$$\\begin{bmatrix} .8 & -.2 & .6 & .4 & -.7  \\end{bmatrix}$$\n"
      ]
    }
  ],
  "metadata": {
    "colab": {
      "provenance": []
    },
    "kernelspec": {
      "display_name": "Python 3",
      "name": "python3"
    },
    "language_info": {
      "codemirror_mode": {
        "name": "ipython",
        "version": 3
      },
      "file_extension": ".py",
      "mimetype": "text/x-python",
      "name": "python",
      "nbconvert_exporter": "python",
      "pygments_lexer": "ipython3",
      "version": "3.10.13"
    }
  },
  "nbformat": 4,
  "nbformat_minor": 0
}
